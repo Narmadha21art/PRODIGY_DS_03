{
 "cells": [
  {
   "cell_type": "markdown",
   "id": "2f634610",
   "metadata": {},
   "source": [
    "# Twitter Entity Sentiment Analysis\n",
    "This notebook analyzes and visualizes sentiment patterns in tweets to understand public opinion and attitudes towards specific topics or brands."
   ]
  },
  {
   "cell_type": "code",
   "execution_count": null,
   "id": "c039b3e2",
   "metadata": {},
   "outputs": [],
   "source": [
    "import pandas as pd\n",
    "import numpy as np\n",
    "import matplotlib.pyplot as plt\n",
    "import seaborn as sns\n",
    "from wordcloud import WordCloud\n",
    "import re\n",
    "import nltk\n",
    "from nltk.corpus import stopwords\n",
    "nltk.download('stopwords')\n",
    "nltk.download('vader_lexicon')\n",
    "from nltk.sentiment.vader import SentimentIntensityAnalyzer\n"
   ]
  },
  {
   "cell_type": "code",
   "execution_count": null,
   "id": "be96ebe5",
   "metadata": {},
   "outputs": [],
   "source": [
    "# Load dataset (replace with your file path if different)\n",
    "df = pd.read_csv('twitter_training.csv', header=None)\n",
    "df.columns = ['ID', 'Entity', 'Sentiment', 'Tweet']\n",
    "df.head()"
   ]
  },
  {
   "cell_type": "code",
   "execution_count": null,
   "id": "5b4f3a87",
   "metadata": {},
   "outputs": [],
   "source": [
    "stop_words = set(stopwords.words('english'))\n",
    "\n",
    "def clean_text(text):\n",
    "    text = re.sub(r\"http\\S+|@\\w+|#\\w+|[^A-Za-z0-9 ]\", '', str(text))\n",
    "    words = text.lower().split()\n",
    "    return ' '.join([w for w in words if w not in stop_words])\n",
    "\n",
    "df['clean_tweet'] = df['Tweet'].apply(clean_text)\n",
    "df[['Tweet', 'clean_tweet']].head()"
   ]
  },
  {
   "cell_type": "code",
   "execution_count": null,
   "id": "e1527627",
   "metadata": {},
   "outputs": [],
   "source": [
    "sns.countplot(data=df, x='Sentiment', order=df['Sentiment'].value_counts().index)\n",
    "plt.title('Sentiment Distribution')\n",
    "plt.xticks(rotation=45)\n",
    "plt.show()"
   ]
  },
  {
   "cell_type": "code",
   "execution_count": null,
   "id": "97eece3b",
   "metadata": {},
   "outputs": [],
   "source": [
    "entity_sentiment = df.groupby('Entity')['Sentiment'].value_counts().unstack().fillna(0)\n",
    "entity_sentiment.plot(kind='barh', stacked=True, figsize=(10, 8), colormap='coolwarm')\n",
    "plt.title('Sentiment Breakdown by Entity')\n",
    "plt.xlabel('Tweet Count')\n",
    "plt.ylabel('Entity')\n",
    "plt.legend(title='Sentiment')\n",
    "plt.tight_layout()\n",
    "plt.show()"
   ]
  },
  {
   "cell_type": "code",
   "execution_count": null,
   "id": "1f814a6d",
   "metadata": {},
   "outputs": [],
   "source": [
    "for sentiment in ['Positive', 'Negative', 'Neutral']:\n",
    "    text = ' '.join(df[df['Sentiment'] == sentiment]['clean_tweet'])\n",
    "    wordcloud = WordCloud(width=800, height=400, background_color='white').generate(text)\n",
    "    plt.figure(figsize=(10, 5))\n",
    "    plt.imshow(wordcloud, interpolation='bilinear')\n",
    "    plt.axis('off')\n",
    "    plt.title(f\"{sentiment} Tweets Word Cloud\")\n",
    "    plt.show()"
   ]
  },
  {
   "cell_type": "code",
   "execution_count": null,
   "id": "a34dd8a8",
   "metadata": {},
   "outputs": [],
   "source": [
    "sia = SentimentIntensityAnalyzer()\n",
    "df['vader_score'] = df['clean_tweet'].apply(lambda x: sia.polarity_scores(x)['compound'])\n",
    "\n",
    "def label(score):\n",
    "    if score >= 0.05: return 'Positive'\n",
    "    elif score <= -0.05: return 'Negative'\n",
    "    else: return 'Neutral'\n",
    "\n",
    "df['vader_sentiment'] = df['vader_score'].apply(label)\n",
    "df[['clean_tweet', 'vader_score', 'vader_sentiment']].head()"
   ]
  }
 ],
 "metadata": {},
 "nbformat": 4,
 "nbformat_minor": 5
}
